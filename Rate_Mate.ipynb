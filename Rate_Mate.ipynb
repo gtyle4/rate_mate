{
 "cells": [
  {
   "cell_type": "code",
   "execution_count": 32,
   "id": "4a630b56",
   "metadata": {},
   "outputs": [
    {
     "data": {
      "text/plain": [
       "True"
      ]
     },
     "execution_count": 32,
     "metadata": {},
     "output_type": "execute_result"
    }
   ],
   "source": [
    "import subprocess, webbrowser, time, os\n",
    "\n",
    "# 1) Where your script lives:\n",
    "script_path = r\"C:\\Users\\garyt\\nps_current\\Wargaming\\rate_mate.py\"\n",
    "\n",
    "# 2) (Optional) If you need to point at a specific Python/venv, give the full path to streamlit.exe:\n",
    "# streamlit_exe = r\"C:\\path\\to\\your\\venv\\Scripts\\streamlit.exe\"\n",
    "# Otherwise assume it's on your PATH:\n",
    "streamlit_exe = \"streamlit\"\n",
    "\n",
    "# 3) Port you want Streamlit to use\n",
    "port = 8501\n",
    "\n",
    "# Launch Streamlit in the notebook’s cwd (so relative imports work)\n",
    "proc = subprocess.Popen([\n",
    "    streamlit_exe,\n",
    "    \"run\", script_path,\n",
    "    \"--server.port\", str(port),\n",
    "    \"--browser.serverAddress\", \"localhost\",\n",
    "    \"--server.headless\", \"false\"\n",
    "], cwd=os.path.dirname(script_path))\n",
    "\n",
    "# Give it a moment to start up\n",
    "time.sleep(3)\n",
    "\n",
    "# Open your default browser to the local URL\n",
    "webbrowser.open(f\"http://localhost:{port}\")\n",
    "\n",
    "# (Optional) If you ever want to stop it from within this notebook:\n",
    "# proc.terminate()\n"
   ]
  },
  {
   "cell_type": "code",
   "execution_count": null,
   "id": "83117b20",
   "metadata": {},
   "outputs": [],
   "source": []
  }
 ],
 "metadata": {
  "kernelspec": {
   "display_name": ".venv_ML",
   "language": "python",
   "name": "python3"
  },
  "language_info": {
   "codemirror_mode": {
    "name": "ipython",
    "version": 3
   },
   "file_extension": ".py",
   "mimetype": "text/x-python",
   "name": "python",
   "nbconvert_exporter": "python",
   "pygments_lexer": "ipython3",
   "version": "3.12.10"
  }
 },
 "nbformat": 4,
 "nbformat_minor": 5
}
